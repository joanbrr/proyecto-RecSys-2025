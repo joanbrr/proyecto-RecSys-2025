{
 "cells": [
  {
   "cell_type": "markdown",
   "id": "90467fb4",
   "metadata": {},
   "source": [
    "# Modelos Baseline\n",
    "\n",
    "En este notebook se implementaran los modelos baseline del proyecto y se guardaran las métricas con el mismo dataset que se utilizará para el modelo principal para hacer bentchmarking"
   ]
  },
  {
   "cell_type": "markdown",
   "id": "2a77d9a3",
   "metadata": {},
   "source": [
    "## Lectura de los datos"
   ]
  },
  {
   "cell_type": "code",
   "execution_count": 36,
   "id": "93c4216e",
   "metadata": {},
   "outputs": [],
   "source": [
    "import sys\n",
    "import os\n",
    "\n",
    "project_root = os.path.abspath(os.path.join(os.getcwd(), '..'))\n",
    "if project_root not in sys.path:\n",
    "    sys.path.append(project_root)\n",
    "\n",
    "import pandas as pd\n",
    "import numpy as np\n",
    "from sklearn.model_selection import train_test_split\n",
    "import os\n",
    "from utils.recomender_metrics import prepare_ground_truth, evaluate_recommendations, calculate_item_popularity, get_all_items, print_evaluation_results\n",
    "import numpy as np\n",
    "from collections import defaultdict\n",
    "from surprise.model_selection import PredefinedKFold\n",
    "from utils.UKnn import UserKNN, calculate_mae, calculate_rmse"
   ]
  },
  {
   "cell_type": "code",
   "execution_count": null,
   "id": "30b1820a",
   "metadata": {},
   "outputs": [],
   "source": [
    "\"\"\"\n",
    "data_dir = \"../data/raw\"\n",
    "os.makedirs(data_dir, exist_ok=True)\n",
    "\n",
    "url = \"http://files.grouplens.org/datasets/movielens/ml-1m.zip\"\n",
    "response = requests.get(url)\n",
    "with zipfile.ZipFile(BytesIO(response.content)) as z:\n",
    "    z.extractall(os.path.join(data_dir, \"ml-1m\"))\n",
    "\"\"\""
   ]
  },
  {
   "cell_type": "code",
   "execution_count": 2,
   "id": "a94a2ffd",
   "metadata": {},
   "outputs": [],
   "source": [
    "# Read ratings.dat\n",
    "ratings_csv = pd.read_csv(\"../data/raw/ml-1m/ratings.dat\", \n",
    "                         sep=\"::\",\n",
    "                         header=None,\n",
    "                         names=['userId', 'movieId', 'rating', 'timestamp'],\n",
    "                         engine='python')"
   ]
  },
  {
   "cell_type": "code",
   "execution_count": 3,
   "id": "430f167b",
   "metadata": {},
   "outputs": [],
   "source": [
    "# Read movies.dat\n",
    "movies_csv = pd.read_csv(\"../data/raw/ml-1m/movies.dat\",\n",
    "                        sep=\"::\",\n",
    "                        header=None,\n",
    "                        names=['movieId', 'title', 'genres'],\n",
    "                        encoding='latin-1',\n",
    "                        engine='python')"
   ]
  },
  {
   "cell_type": "code",
   "execution_count": 4,
   "id": "e5a65bca",
   "metadata": {},
   "outputs": [],
   "source": [
    "# Read users.dat\n",
    "users_csv = pd.read_csv(\"../data/raw/ml-1m/users.dat\",\n",
    "                       sep=\"::\",\n",
    "                       header=None,\n",
    "                       names=['userId', 'gender', 'age', 'occupation', 'zipcode'],\n",
    "                       engine='python')"
   ]
  },
  {
   "cell_type": "code",
   "execution_count": 5,
   "id": "0db3a6f6",
   "metadata": {},
   "outputs": [
    {
     "data": {
      "text/html": [
       "<div>\n",
       "<style scoped>\n",
       "    .dataframe tbody tr th:only-of-type {\n",
       "        vertical-align: middle;\n",
       "    }\n",
       "\n",
       "    .dataframe tbody tr th {\n",
       "        vertical-align: top;\n",
       "    }\n",
       "\n",
       "    .dataframe thead th {\n",
       "        text-align: right;\n",
       "    }\n",
       "</style>\n",
       "<table border=\"1\" class=\"dataframe\">\n",
       "  <thead>\n",
       "    <tr style=\"text-align: right;\">\n",
       "      <th></th>\n",
       "      <th>userId</th>\n",
       "      <th>movieId</th>\n",
       "      <th>rating</th>\n",
       "      <th>timestamp</th>\n",
       "    </tr>\n",
       "  </thead>\n",
       "  <tbody>\n",
       "    <tr>\n",
       "      <th>0</th>\n",
       "      <td>1</td>\n",
       "      <td>1193</td>\n",
       "      <td>5</td>\n",
       "      <td>978300760</td>\n",
       "    </tr>\n",
       "    <tr>\n",
       "      <th>1</th>\n",
       "      <td>1</td>\n",
       "      <td>661</td>\n",
       "      <td>3</td>\n",
       "      <td>978302109</td>\n",
       "    </tr>\n",
       "    <tr>\n",
       "      <th>2</th>\n",
       "      <td>1</td>\n",
       "      <td>914</td>\n",
       "      <td>3</td>\n",
       "      <td>978301968</td>\n",
       "    </tr>\n",
       "    <tr>\n",
       "      <th>3</th>\n",
       "      <td>1</td>\n",
       "      <td>3408</td>\n",
       "      <td>4</td>\n",
       "      <td>978300275</td>\n",
       "    </tr>\n",
       "    <tr>\n",
       "      <th>4</th>\n",
       "      <td>1</td>\n",
       "      <td>2355</td>\n",
       "      <td>5</td>\n",
       "      <td>978824291</td>\n",
       "    </tr>\n",
       "    <tr>\n",
       "      <th>...</th>\n",
       "      <td>...</td>\n",
       "      <td>...</td>\n",
       "      <td>...</td>\n",
       "      <td>...</td>\n",
       "    </tr>\n",
       "    <tr>\n",
       "      <th>1000204</th>\n",
       "      <td>6040</td>\n",
       "      <td>1091</td>\n",
       "      <td>1</td>\n",
       "      <td>956716541</td>\n",
       "    </tr>\n",
       "    <tr>\n",
       "      <th>1000205</th>\n",
       "      <td>6040</td>\n",
       "      <td>1094</td>\n",
       "      <td>5</td>\n",
       "      <td>956704887</td>\n",
       "    </tr>\n",
       "    <tr>\n",
       "      <th>1000206</th>\n",
       "      <td>6040</td>\n",
       "      <td>562</td>\n",
       "      <td>5</td>\n",
       "      <td>956704746</td>\n",
       "    </tr>\n",
       "    <tr>\n",
       "      <th>1000207</th>\n",
       "      <td>6040</td>\n",
       "      <td>1096</td>\n",
       "      <td>4</td>\n",
       "      <td>956715648</td>\n",
       "    </tr>\n",
       "    <tr>\n",
       "      <th>1000208</th>\n",
       "      <td>6040</td>\n",
       "      <td>1097</td>\n",
       "      <td>4</td>\n",
       "      <td>956715569</td>\n",
       "    </tr>\n",
       "  </tbody>\n",
       "</table>\n",
       "<p>1000209 rows × 4 columns</p>\n",
       "</div>"
      ],
      "text/plain": [
       "         userId  movieId  rating  timestamp\n",
       "0             1     1193       5  978300760\n",
       "1             1      661       3  978302109\n",
       "2             1      914       3  978301968\n",
       "3             1     3408       4  978300275\n",
       "4             1     2355       5  978824291\n",
       "...         ...      ...     ...        ...\n",
       "1000204    6040     1091       1  956716541\n",
       "1000205    6040     1094       5  956704887\n",
       "1000206    6040      562       5  956704746\n",
       "1000207    6040     1096       4  956715648\n",
       "1000208    6040     1097       4  956715569\n",
       "\n",
       "[1000209 rows x 4 columns]"
      ]
     },
     "execution_count": 5,
     "metadata": {},
     "output_type": "execute_result"
    }
   ],
   "source": [
    "ratings_csv"
   ]
  },
  {
   "cell_type": "code",
   "execution_count": 6,
   "id": "dedda806",
   "metadata": {},
   "outputs": [
    {
     "data": {
      "text/html": [
       "<div>\n",
       "<style scoped>\n",
       "    .dataframe tbody tr th:only-of-type {\n",
       "        vertical-align: middle;\n",
       "    }\n",
       "\n",
       "    .dataframe tbody tr th {\n",
       "        vertical-align: top;\n",
       "    }\n",
       "\n",
       "    .dataframe thead th {\n",
       "        text-align: right;\n",
       "    }\n",
       "</style>\n",
       "<table border=\"1\" class=\"dataframe\">\n",
       "  <thead>\n",
       "    <tr style=\"text-align: right;\">\n",
       "      <th></th>\n",
       "      <th>movieId</th>\n",
       "      <th>title</th>\n",
       "      <th>genres</th>\n",
       "    </tr>\n",
       "  </thead>\n",
       "  <tbody>\n",
       "    <tr>\n",
       "      <th>0</th>\n",
       "      <td>1</td>\n",
       "      <td>Toy Story (1995)</td>\n",
       "      <td>Animation|Children's|Comedy</td>\n",
       "    </tr>\n",
       "    <tr>\n",
       "      <th>1</th>\n",
       "      <td>2</td>\n",
       "      <td>Jumanji (1995)</td>\n",
       "      <td>Adventure|Children's|Fantasy</td>\n",
       "    </tr>\n",
       "    <tr>\n",
       "      <th>2</th>\n",
       "      <td>3</td>\n",
       "      <td>Grumpier Old Men (1995)</td>\n",
       "      <td>Comedy|Romance</td>\n",
       "    </tr>\n",
       "    <tr>\n",
       "      <th>3</th>\n",
       "      <td>4</td>\n",
       "      <td>Waiting to Exhale (1995)</td>\n",
       "      <td>Comedy|Drama</td>\n",
       "    </tr>\n",
       "    <tr>\n",
       "      <th>4</th>\n",
       "      <td>5</td>\n",
       "      <td>Father of the Bride Part II (1995)</td>\n",
       "      <td>Comedy</td>\n",
       "    </tr>\n",
       "    <tr>\n",
       "      <th>...</th>\n",
       "      <td>...</td>\n",
       "      <td>...</td>\n",
       "      <td>...</td>\n",
       "    </tr>\n",
       "    <tr>\n",
       "      <th>3878</th>\n",
       "      <td>3948</td>\n",
       "      <td>Meet the Parents (2000)</td>\n",
       "      <td>Comedy</td>\n",
       "    </tr>\n",
       "    <tr>\n",
       "      <th>3879</th>\n",
       "      <td>3949</td>\n",
       "      <td>Requiem for a Dream (2000)</td>\n",
       "      <td>Drama</td>\n",
       "    </tr>\n",
       "    <tr>\n",
       "      <th>3880</th>\n",
       "      <td>3950</td>\n",
       "      <td>Tigerland (2000)</td>\n",
       "      <td>Drama</td>\n",
       "    </tr>\n",
       "    <tr>\n",
       "      <th>3881</th>\n",
       "      <td>3951</td>\n",
       "      <td>Two Family House (2000)</td>\n",
       "      <td>Drama</td>\n",
       "    </tr>\n",
       "    <tr>\n",
       "      <th>3882</th>\n",
       "      <td>3952</td>\n",
       "      <td>Contender, The (2000)</td>\n",
       "      <td>Drama|Thriller</td>\n",
       "    </tr>\n",
       "  </tbody>\n",
       "</table>\n",
       "<p>3883 rows × 3 columns</p>\n",
       "</div>"
      ],
      "text/plain": [
       "      movieId                               title  \\\n",
       "0           1                    Toy Story (1995)   \n",
       "1           2                      Jumanji (1995)   \n",
       "2           3             Grumpier Old Men (1995)   \n",
       "3           4            Waiting to Exhale (1995)   \n",
       "4           5  Father of the Bride Part II (1995)   \n",
       "...       ...                                 ...   \n",
       "3878     3948             Meet the Parents (2000)   \n",
       "3879     3949          Requiem for a Dream (2000)   \n",
       "3880     3950                    Tigerland (2000)   \n",
       "3881     3951             Two Family House (2000)   \n",
       "3882     3952               Contender, The (2000)   \n",
       "\n",
       "                            genres  \n",
       "0      Animation|Children's|Comedy  \n",
       "1     Adventure|Children's|Fantasy  \n",
       "2                   Comedy|Romance  \n",
       "3                     Comedy|Drama  \n",
       "4                           Comedy  \n",
       "...                            ...  \n",
       "3878                        Comedy  \n",
       "3879                         Drama  \n",
       "3880                         Drama  \n",
       "3881                         Drama  \n",
       "3882                Drama|Thriller  \n",
       "\n",
       "[3883 rows x 3 columns]"
      ]
     },
     "execution_count": 6,
     "metadata": {},
     "output_type": "execute_result"
    }
   ],
   "source": [
    "movies_csv"
   ]
  },
  {
   "cell_type": "markdown",
   "id": "fed3ece3",
   "metadata": {},
   "source": [
    "### Separamos train/test/val"
   ]
  },
  {
   "cell_type": "markdown",
   "id": "72cc9566",
   "metadata": {},
   "source": [
    "Los splits seran de tamaño 80, 10, 10. Importante mantener la misma seed random para que la comparación sea válida entre los modelos. Por otro lado, para hacer los splits, nos aseguramos que cada usuario tenga 80% de sus ratings en el split de testing y el 20% restante entre los otros dos. Lo que queremos de nuestro modelo es, teniendo un buen conocimiento del usuario (nuestro trabajo será perfilarlo correctamente), conseguir nuevas recomendaciones relevantes."
   ]
  },
  {
   "cell_type": "code",
   "execution_count": 7,
   "id": "4f4e476b",
   "metadata": {},
   "outputs": [],
   "source": [
    "def split_by_user(ratings_df, train_size=0.8, val_size=0.1, random_state=42):\n",
    "    np.random.seed(random_state)\n",
    "    \n",
    "    # Initialize empty dataframes for each split\n",
    "    train_ratings = []\n",
    "    val_ratings = []\n",
    "    test_ratings = []\n",
    "    \n",
    "    # Group by user\n",
    "    for _, user_ratings in ratings_df.groupby('userId'):\n",
    "        # Shuffle user ratings\n",
    "        user_ratings = user_ratings.sample(frac=1, random_state=random_state)\n",
    "        \n",
    "        # Calculate split points\n",
    "        n_ratings = len(user_ratings)\n",
    "        train_idx = int(n_ratings * train_size)\n",
    "        val_idx = int(n_ratings * (train_size + val_size))\n",
    "        \n",
    "        # Split user ratings\n",
    "        train_ratings.append(user_ratings.iloc[:train_idx])\n",
    "        val_ratings.append(user_ratings.iloc[train_idx:val_idx])\n",
    "        test_ratings.append(user_ratings.iloc[val_idx:])\n",
    "    \n",
    "    # Concatenate all splits\n",
    "    return (pd.concat(train_ratings), \n",
    "            pd.concat(test_ratings), \n",
    "            pd.concat(val_ratings))\n",
    "\n",
    "# Perform the split\n",
    "ratings_train, ratings_test, ratings_val = split_by_user(\n",
    "    ratings_csv, \n",
    "    train_size=0.8, \n",
    "    val_size=0.1, \n",
    "    random_state=42\n",
    ")"
   ]
  },
  {
   "cell_type": "markdown",
   "id": "74741753",
   "metadata": {},
   "source": [
    "Ahora, con las funciones de utils, generamos el ground truth para cada usuario de su split de test y validation. Así, cuando hagamos las recomendaciones, sabremos si el elemento era relevante o no."
   ]
  },
  {
   "cell_type": "code",
   "execution_count": 26,
   "id": "2f08e680",
   "metadata": {},
   "outputs": [],
   "source": [
    "testset = list(zip(\n",
    "    ratings_test['userId'].astype(str), \n",
    "    ratings_test['movieId'].astype(str), \n",
    "    ratings_test['rating']\n",
    "))\n",
    "\n",
    "trainset = list(zip(\n",
    "    ratings_train['userId'].astype(str), \n",
    "    ratings_train['movieId'].astype(str), \n",
    "    ratings_train['rating']\n",
    "))"
   ]
  },
  {
   "cell_type": "code",
   "execution_count": 9,
   "id": "ee19a0ce",
   "metadata": {},
   "outputs": [
    {
     "name": "stdout",
     "output_type": "stream",
     "text": [
      "Ground truth for test set prepared.\n"
     ]
    }
   ],
   "source": [
    "ground_truth_test = prepare_ground_truth(testset)\n",
    "print(\"Ground truth for test set prepared.\")"
   ]
  },
  {
   "cell_type": "code",
   "execution_count": 10,
   "id": "e6d0c106",
   "metadata": {},
   "outputs": [
    {
     "name": "stdout",
     "output_type": "stream",
     "text": [
      "Item popularity calculated.\n"
     ]
    }
   ],
   "source": [
    "item_popularity = calculate_item_popularity(trainset)\n",
    "print(\"Item popularity calculated.\")"
   ]
  },
  {
   "cell_type": "code",
   "execution_count": 11,
   "id": "239bc62f",
   "metadata": {},
   "outputs": [
    {
     "name": "stdout",
     "output_type": "stream",
     "text": [
      "All items retrieved.\n"
     ]
    }
   ],
   "source": [
    "all_items = get_all_items(trainset, testset)\n",
    "print(\"All items retrieved.\")"
   ]
  },
  {
   "cell_type": "code",
   "execution_count": 13,
   "id": "ec6e829a",
   "metadata": {},
   "outputs": [
    {
     "data": {
      "text/plain": [
       "{'1210', '1259', '1304', '2617', '2858', '733'}"
      ]
     },
     "execution_count": 13,
     "metadata": {},
     "output_type": "execute_result"
    }
   ],
   "source": [
    "ground_truth_test['3']"
   ]
  },
  {
   "cell_type": "markdown",
   "id": "fa9678c8",
   "metadata": {},
   "source": [
    "## Random model"
   ]
  },
  {
   "cell_type": "markdown",
   "id": "bc7e832b",
   "metadata": {},
   "source": [
    "Generaremos, para cada usuario, aleatoriamente una lista de hasta 50 recomendaciones para poder evaluar las métricas a distintos puntos."
   ]
  },
  {
   "cell_type": "code",
   "execution_count": 14,
   "id": "42db2de9",
   "metadata": {},
   "outputs": [
    {
     "name": "stdout",
     "output_type": "stream",
     "text": [
      "797758 99692 102759\n"
     ]
    }
   ],
   "source": [
    "print(len(ratings_train), len(ratings_val), len(ratings_test))"
   ]
  },
  {
   "cell_type": "code",
   "execution_count": 15,
   "id": "cb0bd03d",
   "metadata": {},
   "outputs": [],
   "source": [
    "# Como no queremos repetir recomendaciones que el usuario ya ha visto (estan en el train), creamos un set de items vistos por cada usuario\n",
    "user_seen_items = ratings_train.groupby('userId')['movieId'].apply(set).to_dict()"
   ]
  },
  {
   "cell_type": "code",
   "execution_count": 16,
   "id": "097a9e7a",
   "metadata": {},
   "outputs": [],
   "source": [
    "def generate_random_recommendations(ratings_df, all_movie_ids, user_seen_items, max_recommendations=50, random_state=42):\n",
    "    np.random.seed(random_state)\n",
    "    recommendations = {}\n",
    "    \n",
    "    for user_id in ratings_df['userId'].unique():\n",
    "        seen_items = user_seen_items.get(user_id, set())\n",
    "        candidate_items = list(set(all_movie_ids) - seen_items)\n",
    "        \n",
    "        n_recommendations = min(max_recommendations, len(candidate_items))\n",
    "        recommended_items = np.random.choice(candidate_items, size=n_recommendations, replace=False).tolist()\n",
    "        \n",
    "        recommendations[user_id] = recommended_items\n",
    "    \n",
    "    return recommendations"
   ]
  },
  {
   "cell_type": "code",
   "execution_count": 17,
   "id": "f7d3a74e",
   "metadata": {},
   "outputs": [],
   "source": [
    "recommendations = generate_random_recommendations(ratings_test, all_items, user_seen_items)"
   ]
  },
  {
   "cell_type": "code",
   "execution_count": 19,
   "id": "a55a9f0c",
   "metadata": {},
   "outputs": [
    {
     "name": "stdout",
     "output_type": "stream",
     "text": [
      "\n",
      "============================================================\n",
      "RECOMMENDATION EVALUATION RESULTS\n",
      "============================================================\n",
      "\n",
      "CATALOG COVERAGE:\n",
      "  @20: 1.0000\n",
      "  @50: 1.0000\n",
      "\n",
      "F1:\n",
      "  @20: 0.0000\n",
      "  @50: 0.0000\n",
      "\n",
      "MAP:\n",
      "  @20: 0.0000\n",
      "  @50: 0.0000\n",
      "\n",
      "MRR:\n",
      "  @20: 0.0000\n",
      "  @50: 0.0000\n",
      "\n",
      "NDCG:\n",
      "  @20: 0.0000\n",
      "  @50: 0.0000\n",
      "\n",
      "NOVELTY:\n",
      "  @20: 13.3524\n",
      "  @50: 13.3470\n",
      "\n",
      "PRECISION:\n",
      "  @20: 0.0000\n",
      "  @50: 0.0000\n",
      "\n",
      "RECALL:\n",
      "  @20: 0.0000\n",
      "  @50: 0.0000\n",
      "\n",
      "============================================================\n"
     ]
    }
   ],
   "source": [
    "# Run evaluation\n",
    "results = evaluate_recommendations(\n",
    "    recommendations=recommendations,\n",
    "    ground_truth=ground_truth_test,\n",
    "    k_values=[20, 50],\n",
    "    item_popularity=item_popularity,\n",
    "    all_items=all_items\n",
    ")\n",
    "\n",
    "print_evaluation_results(results)"
   ]
  },
  {
   "cell_type": "markdown",
   "id": "26f0683f",
   "metadata": {},
   "source": [
    "## Most popular items\n",
    "\n",
    "En este caso, todas las recomendaciones seran iguales para todos los usuarios: recomendaremos las 50 películas más populares"
   ]
  },
  {
   "cell_type": "code",
   "execution_count": 20,
   "id": "ea8acf8a",
   "metadata": {},
   "outputs": [],
   "source": [
    "# Agarramos el diccionario de popularidad y sacamos las 50 peliculas mas populares\n",
    "most_popular_items = sorted(item_popularity, key=item_popularity.get, reverse=True)\n",
    "most_popular_items = most_popular_items[:50]\n",
    "\n",
    "# Ahora llenamos las recomendaciones con las mismas peliculas para todos los usuarios\n",
    "recommendations = {user_id: most_popular_items for user_id in ratings_test['userId'].unique()}"
   ]
  },
  {
   "cell_type": "code",
   "execution_count": 21,
   "id": "b3587d50",
   "metadata": {},
   "outputs": [
    {
     "name": "stdout",
     "output_type": "stream",
     "text": [
      "\n",
      "============================================================\n",
      "RECOMMENDATION EVALUATION RESULTS\n",
      "============================================================\n",
      "\n",
      "CATALOG COVERAGE:\n",
      "  @ 3: 0.0008\n",
      "  @ 5: 0.0014\n",
      "\n",
      "F1:\n",
      "  @ 3: 0.0000\n",
      "  @ 5: 0.0000\n",
      "\n",
      "MAP:\n",
      "  @ 3: 0.0000\n",
      "  @ 5: 0.0000\n",
      "\n",
      "MRR:\n",
      "  @ 3: 0.0000\n",
      "  @ 5: 0.0000\n",
      "\n",
      "NDCG:\n",
      "  @ 3: 0.0000\n",
      "  @ 5: 0.0000\n",
      "\n",
      "NOVELTY:\n",
      "  @ 3: 8.3350\n",
      "  @ 5: 8.3839\n",
      "\n",
      "PRECISION:\n",
      "  @ 3: 0.0000\n",
      "  @ 5: 0.0000\n",
      "\n",
      "RECALL:\n",
      "  @ 3: 0.0000\n",
      "  @ 5: 0.0000\n",
      "\n",
      "============================================================\n"
     ]
    }
   ],
   "source": [
    "# Run evaluation\n",
    "results = evaluate_recommendations(\n",
    "    recommendations=recommendations,\n",
    "    ground_truth=ground_truth_test,\n",
    "    k_values=[3, 5],\n",
    "    item_popularity=item_popularity,\n",
    "    all_items=all_items\n",
    ")\n",
    "\n",
    "print_evaluation_results(results)"
   ]
  },
  {
   "cell_type": "markdown",
   "id": "4c5ce1c2",
   "metadata": {},
   "source": [
    "## User-based KNN\n",
    "\n",
    "Como modelo informado base, escogemos el user-based KNN. Partiendo siempre desde la hipotesis de que tenemos ya bastentes datos de nuestros usuarios y ahora nuestro objetivo es recomendarles películas relevantes."
   ]
  },
  {
   "cell_type": "code",
   "execution_count": 37,
   "id": "c259bd4f",
   "metadata": {},
   "outputs": [],
   "source": [
    "myUserKnn = UserKNN(k=7, similarity='cosine')\n",
    "myUserKnn.fit(trainset)"
   ]
  },
  {
   "cell_type": "code",
   "execution_count": 38,
   "id": "796d768b",
   "metadata": {},
   "outputs": [
    {
     "name": "stdout",
     "output_type": "stream",
     "text": [
      "RMSE: 0.9376, MAE: 0.7303\n"
     ]
    }
   ],
   "source": [
    "# Predicciones para todo el testset\n",
    "predictions = myUserKnn.predict_all(testset)\n",
    "rmse = calculate_rmse(predictions)\n",
    "mae = calculate_mae(predictions)\n",
    "print(f\"RMSE: {rmse:.4f}, MAE: {mae:.4f}\")"
   ]
  },
  {
   "cell_type": "code",
   "execution_count": null,
   "id": "32efe72f",
   "metadata": {},
   "outputs": [],
   "source": [
    "# Para todos los usuarios del test\n",
    "test_users = ratings_test['userId'].unique().astype(str).tolist()\n",
    "top_n_all = myUserKnn.get_top_n(user_ids=test_users, n=50)"
   ]
  },
  {
   "cell_type": "code",
   "execution_count": null,
   "id": "4fbbf597",
   "metadata": {},
   "outputs": [],
   "source": [
    "# Convertir top_n al formato correcto (solo item_ids)\n",
    "recommendations = {\n",
    "    uid: [item_id for item_id, _ in items]\n",
    "    for uid, items in top_n_all.items()\n",
    "}"
   ]
  },
  {
   "cell_type": "code",
   "execution_count": null,
   "id": "4ae20dc8",
   "metadata": {},
   "outputs": [],
   "source": [
    "results = evaluate_recommendations(\n",
    "    recommendations=recommendations,\n",
    "    ground_truth=ground_truth_test,\n",
    "    k_values=[3, 5],\n",
    "    item_popularity=item_popularity,\n",
    "    all_items=all_items\n",
    ")\n",
    "\n",
    "print_evaluation_results(results)"
   ]
  }
 ],
 "metadata": {
  "kernelspec": {
   "display_name": "Python 3",
   "language": "python",
   "name": "python3"
  },
  "language_info": {
   "codemirror_mode": {
    "name": "ipython",
    "version": 3
   },
   "file_extension": ".py",
   "mimetype": "text/x-python",
   "name": "python",
   "nbconvert_exporter": "python",
   "pygments_lexer": "ipython3",
   "version": "3.10.1"
  }
 },
 "nbformat": 4,
 "nbformat_minor": 5
}
