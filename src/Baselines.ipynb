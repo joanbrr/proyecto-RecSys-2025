{
 "cells": [
  {
   "cell_type": "markdown",
   "id": "90467fb4",
   "metadata": {},
   "source": [
    "# Modelos Baseline\n",
    "\n",
    "En este notebook se implementaran los modelos baseline del proyecto y se guardaran las métricas con el mismo dataset que se utilizará para el modelo principal para hacer bentchmarking"
   ]
  },
  {
   "cell_type": "markdown",
   "id": "2a77d9a3",
   "metadata": {},
   "source": [
    "## Lectura de los datos"
   ]
  },
  {
   "cell_type": "code",
   "execution_count": 1,
   "id": "93c4216e",
   "metadata": {},
   "outputs": [],
   "source": [
    "import pandas as pd\n",
    "import numpy as np\n",
    "from sklearn.model_selection import train_test_split\n",
    "from utils.recomender_metrics import prepare_ground_truth, evaluate_recommendations, print_evaluation_results\n",
    "from collections import defaultdict\n",
    "from surprise.model_selection import PredefinedKFold\n",
    "from utils.UKnn import UserKNN, calculate_mae, calculate_rmse"
   ]
  },
  {
   "cell_type": "code",
   "execution_count": 2,
   "id": "4f6e7c47",
   "metadata": {},
   "outputs": [],
   "source": [
    "data_folder = '../data/raw/ml-100k/'"
   ]
  },
  {
   "cell_type": "code",
   "execution_count": 3,
   "id": "cfd7acc1",
   "metadata": {},
   "outputs": [
    {
     "name": "stdout",
     "output_type": "stream",
     "text": [
      "Training Data Head:\n",
      "   user_id  item_id  rating  timestamp\n",
      "0        1        1       5  874965758\n",
      "1        1        2       3  876893171\n",
      "2        1        3       4  878542960\n",
      "3        1        4       3  876893119\n",
      "4        1        5       3  889751712\n"
     ]
    }
   ],
   "source": [
    "r_cols = ['user_id', 'item_id', 'rating', 'timestamp']\n",
    "\n",
    "# Read the training and testing sets\n",
    "train_df = pd.read_csv(f'{data_folder}u1.base', sep='\\t', names=r_cols, encoding='latin-1')\n",
    "test_df = pd.read_csv(f'{data_folder}u1.test', sep='\\t', names=r_cols, encoding='latin-1')\n",
    "\n",
    "train_df['rating'] = train_df['rating'].astype(int)\n",
    "test_df['rating'] = test_df['rating'].astype(int)\n",
    "\n",
    "train_df['rating'] = pd.to_numeric(train_df['rating'], errors='coerce').astype('Int64')\n",
    "test_df['rating'] = pd.to_numeric(test_df['rating'], errors='coerce').astype('Int64')\n",
    "\n",
    "print(\"Training Data Head:\")\n",
    "print(train_df.head())"
   ]
  },
  {
   "cell_type": "code",
   "execution_count": 4,
   "id": "60356264",
   "metadata": {},
   "outputs": [
    {
     "name": "stdout",
     "output_type": "stream",
     "text": [
      "\n",
      "Movie Data Head:\n",
      "   item_id              title release_date  video_release_date  \\\n",
      "0        1   Toy Story (1995)  01-Jan-1995                 NaN   \n",
      "1        2   GoldenEye (1995)  01-Jan-1995                 NaN   \n",
      "2        3  Four Rooms (1995)  01-Jan-1995                 NaN   \n",
      "3        4  Get Shorty (1995)  01-Jan-1995                 NaN   \n",
      "4        5     Copycat (1995)  01-Jan-1995                 NaN   \n",
      "\n",
      "                                            IMDb_URL  unknown  Action  \\\n",
      "0  http://us.imdb.com/M/title-exact?Toy%20Story%2...        0       0   \n",
      "1  http://us.imdb.com/M/title-exact?GoldenEye%20(...        0       1   \n",
      "2  http://us.imdb.com/M/title-exact?Four%20Rooms%...        0       0   \n",
      "3  http://us.imdb.com/M/title-exact?Get%20Shorty%...        0       1   \n",
      "4  http://us.imdb.com/M/title-exact?Copycat%20(1995)        0       0   \n",
      "\n",
      "   Adventure  Animation  Children's  ...  Fantasy  Film-Noir  Horror  Musical  \\\n",
      "0          0          1           1  ...        0          0       0        0   \n",
      "1          1          0           0  ...        0          0       0        0   \n",
      "2          0          0           0  ...        0          0       0        0   \n",
      "3          0          0           0  ...        0          0       0        0   \n",
      "4          0          0           0  ...        0          0       0        0   \n",
      "\n",
      "   Mystery  Romance  Sci-Fi  Thriller  War  Western  \n",
      "0        0        0       0         0    0        0  \n",
      "1        0        0       0         1    0        0  \n",
      "2        0        0       0         1    0        0  \n",
      "3        0        0       0         0    0        0  \n",
      "4        0        0       0         1    0        0  \n",
      "\n",
      "[5 rows x 24 columns]\n"
     ]
    }
   ],
   "source": [
    "i_cols = [\n",
    "    'item_id', 'title', 'release_date', 'video_release_date', 'IMDb_URL',\n",
    "    'unknown', 'Action', 'Adventure', 'Animation', 'Children\\'s', 'Comedy',\n",
    "    'Crime', 'Documentary', 'Drama', 'Fantasy', 'Film-Noir', 'Horror',\n",
    "    'Musical', 'Mystery', 'Romance', 'Sci-Fi', 'Thriller', 'War', 'Western'\n",
    "]\n",
    "\n",
    "movies_df = pd.read_csv(f'{data_folder}u.item', sep='|', names=i_cols, encoding='latin-1')\n",
    "\n",
    "print(\"\\nMovie Data Head:\")\n",
    "print(movies_df.head())"
   ]
  },
  {
   "cell_type": "code",
   "execution_count": 5,
   "id": "102d0b1d",
   "metadata": {},
   "outputs": [
    {
     "name": "stdout",
     "output_type": "stream",
     "text": [
      "\n",
      "User Data Head:\n",
      "   user_id  age gender  occupation zip_code\n",
      "0        1   24      M  technician    85711\n",
      "1        2   53      F       other    94043\n",
      "2        3   23      M      writer    32067\n",
      "3        4   24      M  technician    43537\n",
      "4        5   33      F       other    15213\n"
     ]
    }
   ],
   "source": [
    "u_cols = ['user_id', 'age', 'gender', 'occupation', 'zip_code']\n",
    "\n",
    "users_df = pd.read_csv(f'{data_folder}u.user', sep='|', names=u_cols, encoding='latin-1')\n",
    "\n",
    "# Display the first few rows of the user data\n",
    "print(\"\\nUser Data Head:\")\n",
    "print(users_df.head())"
   ]
  },
  {
   "cell_type": "markdown",
   "id": "671230b7",
   "metadata": {},
   "source": [
    "## Estructuras para métricas\n",
    "\n",
    "Para calcular las métricas, necesitamos saber, por ejemplo, el `ground truth` o la popularidad de los items"
   ]
  },
  {
   "cell_type": "code",
   "execution_count": 6,
   "id": "5933e90f",
   "metadata": {},
   "outputs": [],
   "source": [
    "# Agrupamos el DataFrame de test por usuario y convertimos los item_id de cada grupo en un conjunto (set)\n",
    "ground_truth = test_df[test_df['rating'] > 2].groupby('user_id')['item_id'].apply(set).to_dict()\n",
    "\n",
    "k_values = [10, 20, 50]\n",
    "\n",
    "# Contamos popularidad como suma de ratings para dar más peso a los items mejor puntuados\n",
    "item_popularity = train_df.groupby('item_id')['rating'].sum().to_dict()\n",
    "\n",
    "# Creamos el diccionario iterando sobre el dataframe de películas\n",
    "item_features = {}\n",
    "for index, row in movies_df.iterrows():\n",
    "    item_id = row['item_id']\n",
    "    # Creamos un conjunto con los nombres de las columnas de género donde el valor es 1\n",
    "    genres = {genre for genre in i_cols if row[genre] == 1}\n",
    "    item_features[item_id] = genres\n",
    "\n",
    "all_items = set(movies_df['item_id'])"
   ]
  },
  {
   "cell_type": "markdown",
   "id": "fa9678c8",
   "metadata": {},
   "source": [
    "## Random model"
   ]
  },
  {
   "cell_type": "markdown",
   "id": "bc7e832b",
   "metadata": {},
   "source": [
    "Generaremos, para cada usuario, aleatoriamente una lista de hasta 50 recomendaciones para poder evaluar las métricas a distintos puntos."
   ]
  },
  {
   "cell_type": "code",
   "execution_count": 7,
   "id": "8e2e44de",
   "metadata": {},
   "outputs": [],
   "source": [
    "# Obtener todos los IDs de películas únicos\n",
    "all_movie_ids = movies_df['item_id'].unique().tolist()\n",
    "\n",
    "# Crear el diccionario de ítems vistos por usuario (SOLO con datos de entrenamiento)\n",
    "user_seen_items = train_df.groupby('user_id')['item_id'].apply(set).to_dict()\n",
    "\n",
    "# Obtener la lista de usuarios para los que generaremos recomendaciones\n",
    "users_in_train = train_df['user_id'].unique().tolist()"
   ]
  },
  {
   "cell_type": "code",
   "execution_count": 8,
   "id": "efbb53ae",
   "metadata": {},
   "outputs": [
    {
     "name": "stdout",
     "output_type": "stream",
     "text": [
      "Total de películas: 1682\n",
      "Total de usuarios en el set de entrenamiento: 943\n",
      "Películas vistas por el usuario 1: {1, 2, 3, 4, 5, 7, 8, 9, 11, 13, 15, 16, 18, 19, 21, 22, 25, 26, 28, 29, 30, 32, 34, 35, 37, 38, 40, 41, 42, 43, 45, 46, 48, 50, 52, 55, 57, 58, 59, 63, 66, 68, 71, 75, 77, 79, 83, 87, 88, 89, 93, 94, 95, 99, 101, 105, 106, 109, 110, 111, 115, 116, 119, 122, 123, 124, 126, 127, 131, 133, 135, 136, 137, 138, 139, 141, 142, 144, 146, 147, 149, 152, 153, 156, 158, 162, 165, 166, 167, 168, 169, 172, 173, 176, 178, 179, 181, 182, 187, 191, 192, 194, 195, 197, 198, 199, 203, 204, 205, 207, 211, 216, 217, 220, 223, 231, 234, 237, 238, 239, 240, 244, 245, 246, 247, 249, 251, 256, 257, 261, 263, 268, 269, 270, 271}\n"
     ]
    }
   ],
   "source": [
    "print(f\"Total de películas: {len(all_movie_ids)}\")\n",
    "print(f\"Total de usuarios en el set de entrenamiento: {len(users_in_train)}\")\n",
    "print(f\"Películas vistas por el usuario 1: {user_seen_items[1]}\") "
   ]
  },
  {
   "cell_type": "code",
   "execution_count": 9,
   "id": "42db2de9",
   "metadata": {},
   "outputs": [
    {
     "name": "stdout",
     "output_type": "stream",
     "text": [
      "80000 20000\n"
     ]
    }
   ],
   "source": [
    "print(len(train_df), len(test_df))"
   ]
  },
  {
   "cell_type": "code",
   "execution_count": 10,
   "id": "097a9e7a",
   "metadata": {},
   "outputs": [],
   "source": [
    "def generate_random_recommendations(users_to_recommend, all_movie_ids, user_seen_items, max_recommendations=50, random_state=42):\n",
    "    \"\"\"\n",
    "    Genera recomendaciones aleatorias para una lista de usuarios,\n",
    "    asegurándose de no recomendar ítems que ya han visto.\n",
    "    \"\"\"\n",
    "    np.random.seed(random_state)\n",
    "    recommendations = {}\n",
    "    \n",
    "    for user_id in users_to_recommend:\n",
    "        # Obtener el conjunto de ítems que el usuario ya ha visto (del diccionario)\n",
    "        seen_items = user_seen_items.get(user_id, set())\n",
    "        \n",
    "        # Calcular los ítems candidatos (todos menos los ya vistos)\n",
    "        candidate_items = list(set(all_movie_ids) - seen_items)\n",
    "        \n",
    "        # Determinar cuántas recomendaciones generar\n",
    "        n_recommendations = min(max_recommendations, len(candidate_items))\n",
    "        \n",
    "        # Si hay candidatos, seleccionar aleatoriamente\n",
    "        if n_recommendations > 0:\n",
    "            recommended_items = np.random.choice(candidate_items, size=n_recommendations, replace=False).tolist()\n",
    "            recommendations[user_id] = recommended_items\n",
    "        else:\n",
    "            # En el caso improbable de que un usuario haya visto todo\n",
    "            recommendations[user_id] = []\n",
    "            \n",
    "    return recommendations"
   ]
  },
  {
   "cell_type": "code",
   "execution_count": 11,
   "id": "f7d3a74e",
   "metadata": {},
   "outputs": [],
   "source": [
    "random_recs = generate_random_recommendations(\n",
    "    users_to_recommend=users_in_train,\n",
    "    all_movie_ids=all_movie_ids,\n",
    "    user_seen_items=user_seen_items,\n",
    "    max_recommendations=50, # Generar hasta 50 recomendaciones por usuario\n",
    "    random_state=42\n",
    ")"
   ]
  },
  {
   "cell_type": "code",
   "execution_count": 12,
   "id": "a55a9f0c",
   "metadata": {},
   "outputs": [
    {
     "name": "stdout",
     "output_type": "stream",
     "text": [
      "\n",
      "============================================================\n",
      "RECOMMENDATION EVALUATION RESULTS\n",
      "============================================================\n",
      "\n",
      "CATALOG COVERAGE:\n",
      "  @10: 0.9970\n",
      "  @20: 1.0000\n",
      "  @50: 1.0000\n",
      "\n",
      "F1:\n",
      "  @10: 0.0115\n",
      "  @20: 0.0171\n",
      "  @50: 0.0263\n",
      "\n",
      "INTRA LIST SIMILARITY:\n",
      "  @10: 0.1807\n",
      "  @20: 0.1807\n",
      "  @50: 0.1820\n",
      "\n",
      "MAP:\n",
      "  @10: 0.0085\n",
      "  @20: 0.0062\n",
      "  @50: 0.0049\n",
      "\n",
      "MRR:\n",
      "  @10: 0.0651\n",
      "  @20: 0.0741\n",
      "  @50: 0.0803\n",
      "\n",
      "NDCG:\n",
      "  @10: 0.4785\n",
      "  @20: 0.3892\n",
      "  @50: 0.3219\n",
      "\n",
      "NOVELTY:\n",
      "  @10: 12.4810\n",
      "  @20: 12.4729\n",
      "  @50: 12.4791\n",
      "\n",
      "PRECISION:\n",
      "  @10: 0.0244\n",
      "  @20: 0.0241\n",
      "  @50: 0.0230\n",
      "\n",
      "RECALL:\n",
      "  @10: 0.0075\n",
      "  @20: 0.0133\n",
      "  @50: 0.0307\n",
      "\n",
      "============================================================\n"
     ]
    }
   ],
   "source": [
    "# Run evaluation\n",
    "results = evaluate_recommendations(\n",
    "    recommendations=random_recs,\n",
    "    ground_truth=ground_truth,\n",
    "    k_values=k_values,\n",
    "    item_popularity=item_popularity,\n",
    "    all_items=all_items,\n",
    "    item_features=item_features\n",
    ")\n",
    "\n",
    "print_evaluation_results(results)"
   ]
  },
  {
   "cell_type": "markdown",
   "id": "26f0683f",
   "metadata": {},
   "source": [
    "## Most popular items\n",
    "\n",
    "En este caso, todas las recomendaciones seran iguales para todos los usuarios: recomendaremos las 50 películas más populares"
   ]
  },
  {
   "cell_type": "code",
   "execution_count": 13,
   "id": "ea8acf8a",
   "metadata": {},
   "outputs": [],
   "source": [
    "# Agarramos el diccionario de popularidad y sacamos las 50 peliculas mas populares\n",
    "most_popular_items = sorted(item_popularity, key=item_popularity.get, reverse=True)\n",
    "most_popular_items = most_popular_items[:50]\n",
    "\n",
    "# Ahora llenamos las recomendaciones con las mismas peliculas para todos los usuarios\n",
    "pop_recs = {user_id: most_popular_items for user_id in users_in_train}"
   ]
  },
  {
   "cell_type": "code",
   "execution_count": 14,
   "id": "b3587d50",
   "metadata": {},
   "outputs": [
    {
     "name": "stdout",
     "output_type": "stream",
     "text": [
      "\n",
      "============================================================\n",
      "RECOMMENDATION EVALUATION RESULTS\n",
      "============================================================\n",
      "\n",
      "CATALOG COVERAGE:\n",
      "  @10: 0.0059\n",
      "  @20: 0.0119\n",
      "  @50: 0.0297\n",
      "\n",
      "F1:\n",
      "  @10: 0.1072\n",
      "  @20: 0.1461\n",
      "  @50: 0.1740\n",
      "\n",
      "INTRA LIST SIMILARITY:\n",
      "  @10: 0.1497\n",
      "  @20: 0.1935\n",
      "  @50: 0.1776\n",
      "\n",
      "MAP:\n",
      "  @10: 0.0885\n",
      "  @20: 0.0749\n",
      "  @50: 0.0726\n",
      "\n",
      "MRR:\n",
      "  @10: 0.3726\n",
      "  @20: 0.3797\n",
      "  @50: 0.3815\n",
      "\n",
      "NDCG:\n",
      "  @10: 0.5838\n",
      "  @20: 0.5428\n",
      "  @50: 0.5232\n",
      "\n",
      "NOVELTY:\n",
      "  @10: 7.5304\n",
      "  @20: 7.7083\n",
      "  @50: 8.0123\n",
      "\n",
      "PRECISION:\n",
      "  @10: 0.1743\n",
      "  @20: 0.1621\n",
      "  @50: 0.1373\n",
      "\n",
      "RECALL:\n",
      "  @10: 0.0774\n",
      "  @20: 0.1330\n",
      "  @50: 0.2373\n",
      "\n",
      "============================================================\n"
     ]
    }
   ],
   "source": [
    "# Run evaluation\n",
    "results = evaluate_recommendations(\n",
    "    recommendations=pop_recs,\n",
    "    ground_truth=ground_truth,\n",
    "    k_values=k_values,\n",
    "    item_popularity=item_popularity,\n",
    "    all_items=all_items,\n",
    "    item_features=item_features\n",
    ")\n",
    "\n",
    "print_evaluation_results(results)"
   ]
  },
  {
   "cell_type": "markdown",
   "id": "4c5ce1c2",
   "metadata": {},
   "source": [
    "## User-based KNN\n",
    "\n",
    "Como modelo informado base, escogemos el user-based KNN. Partiendo siempre desde la hipotesis de que tenemos ya bastentes datos de nuestros usuarios y ahora nuestro objetivo es recomendarles películas relevantes."
   ]
  },
  {
   "cell_type": "code",
   "execution_count": 15,
   "id": "f78c1277",
   "metadata": {},
   "outputs": [],
   "source": [
    "train_df_str = train_df.copy()\n",
    "train_df_str['user_id'] = train_df_str['user_id'].astype(str)\n",
    "train_df_str['item_id'] = train_df_str['item_id'].astype(str)\n",
    "\n",
    "test_df_str = test_df.copy()\n",
    "test_df_str['user_id'] = test_df_str['user_id'].astype(str)\n",
    "test_df_str['item_id'] = test_df_str['item_id'].astype(str)\n",
    "\n",
    "trainset = [tuple(row) for row in train_df_str[['user_id', 'item_id', 'rating']].values]\n",
    "testset = [tuple(row) for row in test_df_str[['user_id', 'item_id', 'rating']].values]"
   ]
  },
  {
   "cell_type": "code",
   "execution_count": 16,
   "id": "c259bd4f",
   "metadata": {},
   "outputs": [],
   "source": [
    "myUserKnn = UserKNN(k=7, similarity='cosine')\n",
    "myUserKnn.fit(trainset)"
   ]
  },
  {
   "cell_type": "code",
   "execution_count": 18,
   "id": "796d768b",
   "metadata": {},
   "outputs": [
    {
     "name": "stdout",
     "output_type": "stream",
     "text": [
      "Item 599 unknown, returning user mean.\n",
      "Item 711 unknown, returning user mean.\n",
      "Item 814 unknown, returning user mean.\n",
      "Item 830 unknown, returning user mean.\n",
      "Item 852 unknown, returning user mean.\n",
      "Item 857 unknown, returning user mean.\n",
      "Item 1156 unknown, returning user mean.\n",
      "Item 1236 unknown, returning user mean.\n",
      "Item 1309 unknown, returning user mean.\n",
      "Item 1310 unknown, returning user mean.\n",
      "Item 1320 unknown, returning user mean.\n",
      "Item 1343 unknown, returning user mean.\n",
      "Item 1348 unknown, returning user mean.\n",
      "Item 1364 unknown, returning user mean.\n",
      "Item 1373 unknown, returning user mean.\n",
      "Item 1457 unknown, returning user mean.\n",
      "Item 1458 unknown, returning user mean.\n",
      "Item 1492 unknown, returning user mean.\n",
      "Item 1493 unknown, returning user mean.\n",
      "Item 1498 unknown, returning user mean.\n",
      "Item 1505 unknown, returning user mean.\n",
      "Item 1520 unknown, returning user mean.\n",
      "Item 1533 unknown, returning user mean.\n",
      "Item 1536 unknown, returning user mean.\n",
      "Item 1543 unknown, returning user mean.\n",
      "Item 1557 unknown, returning user mean.\n",
      "Item 1561 unknown, returning user mean.\n",
      "Item 1562 unknown, returning user mean.\n",
      "Item 1563 unknown, returning user mean.\n",
      "Item 1565 unknown, returning user mean.\n",
      "Item 1582 unknown, returning user mean.\n",
      "Item 1586 unknown, returning user mean.\n",
      "RMSE: 0.9808, MAE: 0.7655\n"
     ]
    }
   ],
   "source": [
    "# Predicciones para todo el testset\n",
    "predictions = myUserKnn.predict_all(testset)\n",
    "rmse = calculate_rmse(predictions)\n",
    "mae = calculate_mae(predictions)\n",
    "print(f\"RMSE: {rmse:.4f}, MAE: {mae:.4f}\")"
   ]
  },
  {
   "cell_type": "code",
   "execution_count": 20,
   "id": "32efe72f",
   "metadata": {},
   "outputs": [],
   "source": [
    "users_in_train = train_df['user_id'].astype(str).unique().tolist()\n",
    "top_n_all = myUserKnn.get_top_n(user_ids=users_in_train, n=50)"
   ]
  },
  {
   "cell_type": "code",
   "execution_count": 22,
   "id": "4fbbf597",
   "metadata": {},
   "outputs": [],
   "source": [
    "# Convertir top_n al formato correcto (solo item_ids)\n",
    "uknn_recs = {\n",
    "    uid: [item_id for item_id, _ in items]\n",
    "    for uid, items in top_n_all.items()\n",
    "}"
   ]
  },
  {
   "cell_type": "code",
   "execution_count": 25,
   "id": "4ae20dc8",
   "metadata": {},
   "outputs": [
    {
     "name": "stdout",
     "output_type": "stream",
     "text": [
      "\n",
      "============================================================\n",
      "RECOMMENDATION EVALUATION RESULTS\n",
      "============================================================\n",
      "\n",
      "CATALOG COVERAGE:\n",
      "  @10: 0.1367\n",
      "  @20: 0.2111\n",
      "  @50: 0.3502\n",
      "\n",
      "F1:\n",
      "  @10: 0.0000\n",
      "  @20: 0.0000\n",
      "  @50: 0.0000\n",
      "\n",
      "INTRA LIST SIMILARITY:\n",
      "  @10: 0.0000\n",
      "  @20: 0.0000\n",
      "  @50: 0.0000\n",
      "\n",
      "MAP:\n",
      "  @10: 0.0000\n",
      "  @20: 0.0000\n",
      "  @50: 0.0000\n",
      "\n",
      "MRR:\n",
      "  @10: 0.0000\n",
      "  @20: 0.0000\n",
      "  @50: 0.0000\n",
      "\n",
      "NDCG:\n",
      "  @10: 0.0000\n",
      "  @20: 0.0000\n",
      "  @50: 0.0000\n",
      "\n",
      "NOVELTY:\n",
      "  @10: 0.0000\n",
      "  @20: 0.0000\n",
      "  @50: 0.0000\n",
      "\n",
      "PRECISION:\n",
      "  @10: 0.0000\n",
      "  @20: 0.0000\n",
      "  @50: 0.0000\n",
      "\n",
      "RECALL:\n",
      "  @10: 0.0000\n",
      "  @20: 0.0000\n",
      "  @50: 0.0000\n",
      "\n",
      "============================================================\n"
     ]
    }
   ],
   "source": [
    "# Run evaluation\n",
    "results = evaluate_recommendations(\n",
    "    recommendations=uknn_recs,\n",
    "    ground_truth=ground_truth,\n",
    "    k_values=k_values,\n",
    "    item_popularity=item_popularity,\n",
    "    all_items=all_items,\n",
    "    item_features=item_features\n",
    ")\n",
    "\n",
    "print_evaluation_results(results)"
   ]
  }
 ],
 "metadata": {
  "kernelspec": {
   "display_name": "Python 3",
   "language": "python",
   "name": "python3"
  },
  "language_info": {
   "codemirror_mode": {
    "name": "ipython",
    "version": 3
   },
   "file_extension": ".py",
   "mimetype": "text/x-python",
   "name": "python",
   "nbconvert_exporter": "python",
   "pygments_lexer": "ipython3",
   "version": "3.10.1"
  }
 },
 "nbformat": 4,
 "nbformat_minor": 5
}
