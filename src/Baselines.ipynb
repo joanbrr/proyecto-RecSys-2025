{
 "cells": [
  {
   "cell_type": "markdown",
   "id": "90467fb4",
   "metadata": {},
   "source": [
    "# Modelos Baseline\n",
    "\n",
    "En este notebook se implementaran los modelos baseline del proyecto y se guardaran las métricas con el mismo dataset que se utilizará para el modelo principal para hacer bentchmarking"
   ]
  },
  {
   "cell_type": "markdown",
   "id": "2a77d9a3",
   "metadata": {},
   "source": [
    "## Lectura de los datos"
   ]
  },
  {
   "cell_type": "markdown",
   "id": "fa9678c8",
   "metadata": {},
   "source": [
    "## Random model"
   ]
  },
  {
   "cell_type": "code",
   "execution_count": null,
   "id": "42db2de9",
   "metadata": {},
   "outputs": [],
   "source": []
  }
 ],
 "metadata": {
  "language_info": {
   "name": "python"
  }
 },
 "nbformat": 4,
 "nbformat_minor": 5
}
